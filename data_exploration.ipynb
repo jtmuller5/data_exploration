{
 "cells": [
  {
   "cell_type": "markdown",
   "source": [
    "# Goal\n",
    "This is a generic notebook designed to help analyze any dataset. By updating the data source and running the entire notebook, you should be able to derive basic insights about the data before creating a more targeted solution.\n",
    "\n",
    "## Setup\n",
    "- pip install jupyter\n",
    "\n",
    "## Upload Data"
   ],
   "metadata": {
    "collapsed": false
   },
   "id": "d214e749de91e8ce"
  },
  {
   "cell_type": "code",
   "execution_count": 2,
   "outputs": [
    {
     "name": "stderr",
     "output_type": "stream",
     "text": [
      "/var/folders/my/fbxktbx57hj75wdxyw_b2vjw0000gn/T/ipykernel_21294/86741807.py:3: DtypeWarning: Columns (5,9) have mixed types. Specify dtype option on import or set low_memory=False.\n",
      "  dataset = pd.read_csv('datasets/ufos/complete.csv', on_bad_lines='skip') # Update with your data source\n"
     ]
    }
   ],
   "source": [
    "import pandas as pd\n",
    "\n",
    "dataset = pd.read_csv('datasets/ufos/complete.csv', on_bad_lines='skip') # Update with your data source"
   ],
   "metadata": {
    "collapsed": false,
    "ExecuteTime": {
     "end_time": "2023-10-06T18:07:31.040329Z",
     "start_time": "2023-10-06T18:07:30.880038Z"
    }
   },
   "id": "6ee53a127bcc30fa"
  },
  {
   "cell_type": "markdown",
   "source": [
    "## Explore Data\n",
    "The following commands will give you a high level overview of the data in the dataset."
   ],
   "metadata": {
    "collapsed": false
   },
   "id": "fae29896d1a229fa"
  },
  {
   "cell_type": "code",
   "execution_count": 3,
   "outputs": [
    {
     "data": {
      "text/plain": "           datetime                  city state country     shape  \\\n0  10/10/1949 20:30            san marcos    tx      us  cylinder   \n1  10/10/1949 21:00          lackland afb    tx     NaN     light   \n2  10/10/1955 17:00  chester (uk/england)   NaN      gb    circle   \n3  10/10/1956 21:00                  edna    tx      us    circle   \n4  10/10/1960 20:00               kaneohe    hi      us     light   \n\n  duration (seconds) duration (hours/min)  \\\n0               2700           45 minutes   \n1               7200              1-2 hrs   \n2                 20           20 seconds   \n3                 20             1/2 hour   \n4                900           15 minutes   \n\n                                            comments date posted    latitude  \\\n0  This event took place in early fall around 194...   4/27/2004  29.8830556   \n1  1949 Lackland AFB&#44 TX.  Lights racing acros...  12/16/2005    29.38421   \n2  Green/Orange circular disc over Chester&#44 En...   1/21/2008        53.2   \n3  My older brother and twin sister were leaving ...   1/17/2004  28.9783333   \n4  AS a Marine 1st Lt. flying an FJ4B fighter/att...   1/22/2004  21.4180556   \n\n    longitude  \n0  -97.941111  \n1  -98.581082  \n2   -2.916667  \n3  -96.645833  \n4 -157.803611  ",
      "text/html": "<div>\n<style scoped>\n    .dataframe tbody tr th:only-of-type {\n        vertical-align: middle;\n    }\n\n    .dataframe tbody tr th {\n        vertical-align: top;\n    }\n\n    .dataframe thead th {\n        text-align: right;\n    }\n</style>\n<table border=\"1\" class=\"dataframe\">\n  <thead>\n    <tr style=\"text-align: right;\">\n      <th></th>\n      <th>datetime</th>\n      <th>city</th>\n      <th>state</th>\n      <th>country</th>\n      <th>shape</th>\n      <th>duration (seconds)</th>\n      <th>duration (hours/min)</th>\n      <th>comments</th>\n      <th>date posted</th>\n      <th>latitude</th>\n      <th>longitude</th>\n    </tr>\n  </thead>\n  <tbody>\n    <tr>\n      <th>0</th>\n      <td>10/10/1949 20:30</td>\n      <td>san marcos</td>\n      <td>tx</td>\n      <td>us</td>\n      <td>cylinder</td>\n      <td>2700</td>\n      <td>45 minutes</td>\n      <td>This event took place in early fall around 194...</td>\n      <td>4/27/2004</td>\n      <td>29.8830556</td>\n      <td>-97.941111</td>\n    </tr>\n    <tr>\n      <th>1</th>\n      <td>10/10/1949 21:00</td>\n      <td>lackland afb</td>\n      <td>tx</td>\n      <td>NaN</td>\n      <td>light</td>\n      <td>7200</td>\n      <td>1-2 hrs</td>\n      <td>1949 Lackland AFB&amp;#44 TX.  Lights racing acros...</td>\n      <td>12/16/2005</td>\n      <td>29.38421</td>\n      <td>-98.581082</td>\n    </tr>\n    <tr>\n      <th>2</th>\n      <td>10/10/1955 17:00</td>\n      <td>chester (uk/england)</td>\n      <td>NaN</td>\n      <td>gb</td>\n      <td>circle</td>\n      <td>20</td>\n      <td>20 seconds</td>\n      <td>Green/Orange circular disc over Chester&amp;#44 En...</td>\n      <td>1/21/2008</td>\n      <td>53.2</td>\n      <td>-2.916667</td>\n    </tr>\n    <tr>\n      <th>3</th>\n      <td>10/10/1956 21:00</td>\n      <td>edna</td>\n      <td>tx</td>\n      <td>us</td>\n      <td>circle</td>\n      <td>20</td>\n      <td>1/2 hour</td>\n      <td>My older brother and twin sister were leaving ...</td>\n      <td>1/17/2004</td>\n      <td>28.9783333</td>\n      <td>-96.645833</td>\n    </tr>\n    <tr>\n      <th>4</th>\n      <td>10/10/1960 20:00</td>\n      <td>kaneohe</td>\n      <td>hi</td>\n      <td>us</td>\n      <td>light</td>\n      <td>900</td>\n      <td>15 minutes</td>\n      <td>AS a Marine 1st Lt. flying an FJ4B fighter/att...</td>\n      <td>1/22/2004</td>\n      <td>21.4180556</td>\n      <td>-157.803611</td>\n    </tr>\n  </tbody>\n</table>\n</div>"
     },
     "execution_count": 3,
     "metadata": {},
     "output_type": "execute_result"
    }
   ],
   "source": [
    "dataset.head()"
   ],
   "metadata": {
    "collapsed": false,
    "ExecuteTime": {
     "end_time": "2023-10-06T18:07:31.050597Z",
     "start_time": "2023-10-06T18:07:31.042435Z"
    }
   },
   "id": "f4d569897edfa0bc"
  }
 ],
 "metadata": {
  "kernelspec": {
   "display_name": "Python 3",
   "language": "python",
   "name": "python3"
  },
  "language_info": {
   "codemirror_mode": {
    "name": "ipython",
    "version": 2
   },
   "file_extension": ".py",
   "mimetype": "text/x-python",
   "name": "python",
   "nbconvert_exporter": "python",
   "pygments_lexer": "ipython2",
   "version": "2.7.6"
  }
 },
 "nbformat": 4,
 "nbformat_minor": 5
}
