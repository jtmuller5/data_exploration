{
 "cells": [
  {
   "cell_type": "markdown",
   "source": [
    "# Goal\n",
    "This is a generic notebook designed to help analyze any dataset. By updating the data source and running the entire notebook, you should be able to derive basic insights about the data before creating a more targeted solution.\n",
    "\n",
    "## Setup\n",
    "- pip install jupyter\n",
    "- pip install pandas\n",
    "- pip install scikit-learn\n",
    "\n",
    "## Upload Data"
   ],
   "metadata": {
    "collapsed": false
   },
   "id": "d214e749de91e8ce"
  },
  {
   "cell_type": "code",
   "execution_count": 31,
   "outputs": [
    {
     "name": "stderr",
     "output_type": "stream",
     "text": [
      "/var/folders/my/fbxktbx57hj75wdxyw_b2vjw0000gn/T/ipykernel_21294/86741807.py:3: DtypeWarning: Columns (5,9) have mixed types. Specify dtype option on import or set low_memory=False.\n",
      "  dataset = pd.read_csv('datasets/ufos/complete.csv', on_bad_lines='skip') # Update with your data source\n"
     ]
    }
   ],
   "source": [
    "import pandas as pd\n",
    "\n",
    "dataset = pd.read_csv('datasets/ufos/complete.csv', on_bad_lines='skip') # Update with your data source"
   ],
   "metadata": {
    "collapsed": false,
    "ExecuteTime": {
     "end_time": "2023-10-06T18:59:58.587947Z",
     "start_time": "2023-10-06T18:59:58.421666Z"
    }
   },
   "id": "6ee53a127bcc30fa"
  },
  {
   "cell_type": "markdown",
   "source": [
    "## Explore Data\n",
    "The following commands will give you a high level overview of the data in the dataset."
   ],
   "metadata": {
    "collapsed": false
   },
   "id": "fae29896d1a229fa"
  },
  {
   "cell_type": "code",
   "execution_count": 32,
   "outputs": [
    {
     "name": "stdout",
     "output_type": "stream",
     "text": [
      "<class 'pandas.core.frame.DataFrame'>\n",
      "RangeIndex: 88679 entries, 0 to 88678\n",
      "Data columns (total 11 columns):\n",
      " #   Column                Non-Null Count  Dtype  \n",
      "---  ------                --------------  -----  \n",
      " 0   datetime              88679 non-null  object \n",
      " 1   city                  88679 non-null  object \n",
      " 2   state                 81270 non-null  object \n",
      " 3   country               76314 non-null  object \n",
      " 4   shape                 85757 non-null  object \n",
      " 5   duration (seconds)    88677 non-null  object \n",
      " 6   duration (hours/min)  85660 non-null  object \n",
      " 7   comments              88644 non-null  object \n",
      " 8   date posted           88679 non-null  object \n",
      " 9   latitude              88679 non-null  object \n",
      " 10  longitude             88679 non-null  float64\n",
      "dtypes: float64(1), object(10)\n",
      "memory usage: 7.4+ MB\n"
     ]
    }
   ],
   "source": [
    "dataset.info()"
   ],
   "metadata": {
    "collapsed": false,
    "ExecuteTime": {
     "end_time": "2023-10-06T18:59:58.608294Z",
     "start_time": "2023-10-06T18:59:58.602026Z"
    }
   },
   "id": "5a31121b0e2fd0af"
  },
  {
   "cell_type": "code",
   "execution_count": 33,
   "outputs": [
    {
     "data": {
      "text/plain": "           datetime                  city state country     shape  \\\n0  10/10/1949 20:30            san marcos    tx      us  cylinder   \n1  10/10/1949 21:00          lackland afb    tx     NaN     light   \n2  10/10/1955 17:00  chester (uk/england)   NaN      gb    circle   \n3  10/10/1956 21:00                  edna    tx      us    circle   \n4  10/10/1960 20:00               kaneohe    hi      us     light   \n\n  duration (seconds) duration (hours/min)  \\\n0               2700           45 minutes   \n1               7200              1-2 hrs   \n2                 20           20 seconds   \n3                 20             1/2 hour   \n4                900           15 minutes   \n\n                                            comments date posted    latitude  \\\n0  This event took place in early fall around 194...   4/27/2004  29.8830556   \n1  1949 Lackland AFB&#44 TX.  Lights racing acros...  12/16/2005    29.38421   \n2  Green/Orange circular disc over Chester&#44 En...   1/21/2008        53.2   \n3  My older brother and twin sister were leaving ...   1/17/2004  28.9783333   \n4  AS a Marine 1st Lt. flying an FJ4B fighter/att...   1/22/2004  21.4180556   \n\n    longitude  \n0  -97.941111  \n1  -98.581082  \n2   -2.916667  \n3  -96.645833  \n4 -157.803611  ",
      "text/html": "<div>\n<style scoped>\n    .dataframe tbody tr th:only-of-type {\n        vertical-align: middle;\n    }\n\n    .dataframe tbody tr th {\n        vertical-align: top;\n    }\n\n    .dataframe thead th {\n        text-align: right;\n    }\n</style>\n<table border=\"1\" class=\"dataframe\">\n  <thead>\n    <tr style=\"text-align: right;\">\n      <th></th>\n      <th>datetime</th>\n      <th>city</th>\n      <th>state</th>\n      <th>country</th>\n      <th>shape</th>\n      <th>duration (seconds)</th>\n      <th>duration (hours/min)</th>\n      <th>comments</th>\n      <th>date posted</th>\n      <th>latitude</th>\n      <th>longitude</th>\n    </tr>\n  </thead>\n  <tbody>\n    <tr>\n      <th>0</th>\n      <td>10/10/1949 20:30</td>\n      <td>san marcos</td>\n      <td>tx</td>\n      <td>us</td>\n      <td>cylinder</td>\n      <td>2700</td>\n      <td>45 minutes</td>\n      <td>This event took place in early fall around 194...</td>\n      <td>4/27/2004</td>\n      <td>29.8830556</td>\n      <td>-97.941111</td>\n    </tr>\n    <tr>\n      <th>1</th>\n      <td>10/10/1949 21:00</td>\n      <td>lackland afb</td>\n      <td>tx</td>\n      <td>NaN</td>\n      <td>light</td>\n      <td>7200</td>\n      <td>1-2 hrs</td>\n      <td>1949 Lackland AFB&amp;#44 TX.  Lights racing acros...</td>\n      <td>12/16/2005</td>\n      <td>29.38421</td>\n      <td>-98.581082</td>\n    </tr>\n    <tr>\n      <th>2</th>\n      <td>10/10/1955 17:00</td>\n      <td>chester (uk/england)</td>\n      <td>NaN</td>\n      <td>gb</td>\n      <td>circle</td>\n      <td>20</td>\n      <td>20 seconds</td>\n      <td>Green/Orange circular disc over Chester&amp;#44 En...</td>\n      <td>1/21/2008</td>\n      <td>53.2</td>\n      <td>-2.916667</td>\n    </tr>\n    <tr>\n      <th>3</th>\n      <td>10/10/1956 21:00</td>\n      <td>edna</td>\n      <td>tx</td>\n      <td>us</td>\n      <td>circle</td>\n      <td>20</td>\n      <td>1/2 hour</td>\n      <td>My older brother and twin sister were leaving ...</td>\n      <td>1/17/2004</td>\n      <td>28.9783333</td>\n      <td>-96.645833</td>\n    </tr>\n    <tr>\n      <th>4</th>\n      <td>10/10/1960 20:00</td>\n      <td>kaneohe</td>\n      <td>hi</td>\n      <td>us</td>\n      <td>light</td>\n      <td>900</td>\n      <td>15 minutes</td>\n      <td>AS a Marine 1st Lt. flying an FJ4B fighter/att...</td>\n      <td>1/22/2004</td>\n      <td>21.4180556</td>\n      <td>-157.803611</td>\n    </tr>\n  </tbody>\n</table>\n</div>"
     },
     "execution_count": 33,
     "metadata": {},
     "output_type": "execute_result"
    }
   ],
   "source": [
    "dataset.head()"
   ],
   "metadata": {
    "collapsed": false,
    "ExecuteTime": {
     "end_time": "2023-10-06T18:59:58.623430Z",
     "start_time": "2023-10-06T18:59:58.610381Z"
    }
   },
   "id": "f4d569897edfa0bc"
  },
  {
   "cell_type": "code",
   "execution_count": 34,
   "outputs": [
    {
     "data": {
      "text/plain": "          longitude\ncount  88679.000000\nmean     -85.021836\nstd       41.421744\nmin     -176.658056\n25%     -112.073333\n50%      -87.650000\n75%      -77.769738\nmax      178.441900",
      "text/html": "<div>\n<style scoped>\n    .dataframe tbody tr th:only-of-type {\n        vertical-align: middle;\n    }\n\n    .dataframe tbody tr th {\n        vertical-align: top;\n    }\n\n    .dataframe thead th {\n        text-align: right;\n    }\n</style>\n<table border=\"1\" class=\"dataframe\">\n  <thead>\n    <tr style=\"text-align: right;\">\n      <th></th>\n      <th>longitude</th>\n    </tr>\n  </thead>\n  <tbody>\n    <tr>\n      <th>count</th>\n      <td>88679.000000</td>\n    </tr>\n    <tr>\n      <th>mean</th>\n      <td>-85.021836</td>\n    </tr>\n    <tr>\n      <th>std</th>\n      <td>41.421744</td>\n    </tr>\n    <tr>\n      <th>min</th>\n      <td>-176.658056</td>\n    </tr>\n    <tr>\n      <th>25%</th>\n      <td>-112.073333</td>\n    </tr>\n    <tr>\n      <th>50%</th>\n      <td>-87.650000</td>\n    </tr>\n    <tr>\n      <th>75%</th>\n      <td>-77.769738</td>\n    </tr>\n    <tr>\n      <th>max</th>\n      <td>178.441900</td>\n    </tr>\n  </tbody>\n</table>\n</div>"
     },
     "execution_count": 34,
     "metadata": {},
     "output_type": "execute_result"
    }
   ],
   "source": [
    "dataset.describe()"
   ],
   "metadata": {
    "collapsed": false,
    "ExecuteTime": {
     "end_time": "2023-10-06T18:59:58.623890Z",
     "start_time": "2023-10-06T18:59:58.614247Z"
    }
   },
   "id": "6dab1ec55c23b9f1"
  },
  {
   "cell_type": "code",
   "execution_count": 35,
   "outputs": [
    {
     "data": {
      "text/plain": "           longitude\nlongitude        1.0",
      "text/html": "<div>\n<style scoped>\n    .dataframe tbody tr th:only-of-type {\n        vertical-align: middle;\n    }\n\n    .dataframe tbody tr th {\n        vertical-align: top;\n    }\n\n    .dataframe thead th {\n        text-align: right;\n    }\n</style>\n<table border=\"1\" class=\"dataframe\">\n  <thead>\n    <tr style=\"text-align: right;\">\n      <th></th>\n      <th>longitude</th>\n    </tr>\n  </thead>\n  <tbody>\n    <tr>\n      <th>longitude</th>\n      <td>1.0</td>\n    </tr>\n  </tbody>\n</table>\n</div>"
     },
     "execution_count": 35,
     "metadata": {},
     "output_type": "execute_result"
    }
   ],
   "source": [
    "corr_matrix = dataset.corr(numeric_only=True)\n",
    "corr_matrix"
   ],
   "metadata": {
    "collapsed": false,
    "ExecuteTime": {
     "end_time": "2023-10-06T18:59:58.629217Z",
     "start_time": "2023-10-06T18:59:58.621532Z"
    }
   },
   "id": "5c0b2f42bcb3babc"
  },
  {
   "cell_type": "markdown",
   "source": [
    "### Check for Unique Values"
   ],
   "metadata": {
    "collapsed": false
   },
   "id": "b689f4ea55c9e52c"
  },
  {
   "cell_type": "code",
   "execution_count": 36,
   "outputs": [
    {
     "name": "stdout",
     "output_type": "stream",
     "text": [
      "datetime: 76159\n",
      "city: 22018\n",
      "state: 69\n",
      "country: 6\n",
      "shape: 30\n",
      "duration (seconds): 733\n",
      "duration (hours/min): 9792\n",
      "comments: 88284\n",
      "date posted: 317\n",
      "latitude: 25428\n",
      "longitude: 20549\n"
     ]
    }
   ],
   "source": [
    "def check_unique_values(dataset):\n",
    "    for column in dataset.columns:\n",
    "        # Print formatted table of column name and number of unique values\n",
    "        print(f'{column}: {len(dataset[column].unique())}')\n",
    "        \n",
    "check_unique_values(dataset)"
   ],
   "metadata": {
    "collapsed": false,
    "ExecuteTime": {
     "end_time": "2023-10-06T18:59:58.699634Z",
     "start_time": "2023-10-06T18:59:58.627847Z"
    }
   },
   "id": "b2008b621dc5c40e"
  },
  {
   "cell_type": "markdown",
   "source": [
    "The following function will check the dataset for categorical columns by looking at the ratio of unique values to the overall number of values. If the ratio is less than 0.05, the column is considered categorical."
   ],
   "metadata": {
    "collapsed": false
   },
   "id": "b76bc8f1631123d5"
  },
  {
   "cell_type": "code",
   "execution_count": 37,
   "outputs": [],
   "source": [
    "def check_categorical_columns(dataset) -> list:\n",
    "    categorical_columns = []\n",
    "    for column in dataset.columns:\n",
    "        if len(dataset[column].unique()) / len(dataset[column]) < 0.05:\n",
    "            categorical_columns.append(column)\n",
    "    return categorical_columns\n",
    "\n",
    "categorical_columns=check_categorical_columns(dataset)"
   ],
   "metadata": {
    "collapsed": false,
    "ExecuteTime": {
     "end_time": "2023-10-06T18:59:58.710022Z",
     "start_time": "2023-10-06T18:59:58.664804Z"
    }
   },
   "id": "6686d24fe0861215"
  },
  {
   "cell_type": "markdown",
   "source": [
    "For each of the potential category columns, we will use the OrdinalEncoder from scikit-learn to convert the values to numbers.\n",
    "\n",
    "    for column in categorical_columns:\n",
    "        try:\n",
    "            dataset[column + \"_cat\"] = encoder.fit_transform(dataset[column].values.reshape(-1, 1))\n",
    "            print(\"Total categories for \" + column + \": \" + str(encoder.categories.list))\n",
    "            print(column + f\"({len(encoder.categories_)})): \" + str(encoder.categories_))\n",
    "        except Exception as e:\n",
    "            print(f'Could not encode {column}: {e}')"
   ],
   "metadata": {
    "collapsed": false
   },
   "id": "b42be23b2ad63b76"
  },
  {
   "cell_type": "code",
   "execution_count": 57,
   "outputs": [
    {
     "name": "stdout",
     "output_type": "stream",
     "text": [
      "[array(['ab', 'ak', 'al', 'ar', 'az', 'bc', 'ca', 'co', 'ct', 'dc', 'de',\n",
      "       'fl', 'ga', 'hi', 'ia', 'id', 'il', 'in', 'ks', 'ky', 'la', 'ma',\n",
      "       'mb', 'md', 'me', 'mi', 'mn', 'mo', 'ms', 'mt', 'nan', 'nb', 'nc',\n",
      "       'nd', 'ne', 'nf', 'nh', 'nj', 'nm', 'ns', 'nt', 'nv', 'ny', 'oh',\n",
      "       'ok', 'on', 'or', 'pa', 'pe', 'pq', 'pr', 'qc', 'ri', 'sa', 'sc',\n",
      "       'sd', 'sk', 'tn', 'tx', 'ut', 'va', 'vi', 'vt', 'wa', 'wi', 'wv',\n",
      "       'wy', 'yk', 'yt'], dtype=object), array(['au', 'ca', 'de', 'gb', 'nan', 'us'], dtype=object), array(['changed', 'changing', 'chevron', 'cigar', 'circle', 'cone',\n",
      "       'crescent', 'cross', 'cylinder', 'delta', 'diamond', 'disk',\n",
      "       'dome', 'egg', 'fireball', 'flare', 'flash', 'formation',\n",
      "       'hexagon', 'light', 'nan', 'other', 'oval', 'pyramid', 'rectangle',\n",
      "       'round', 'sphere', 'teardrop', 'triangle', 'unknown'], dtype=object), array(['0', '0.0', '0.001', '0.01', '0.02', '0.05', '0.08', '0.1', '0.2',\n",
      "       '0.23', '0.3', '0.33', '0.38', '0.4', '0.45', '0.5', '0.57',\n",
      "       '0.5`', '0.6', '0.7', '0.75', '1', '1.0', '1.2', '1.3', '1.5',\n",
      "       '1.6', '1.75', '10', '10.0', '100', '100.0', '1000', '101.0',\n",
      "       '1010', '1015', '1020', '1020.0', '103', '1045.0', '1046', '1049',\n",
      "       '105', '105.0', '1050', '1050.0', '10500', '10526400',\n",
      "       '10526400.0', '1053.0', '106', '1060', '10620', '1076.0', '108',\n",
      "       '1080', '1080.0', '10800', '10800.0', '108000', '1080000', '1081',\n",
      "       '1084', '1085', '1090', '109800', '109800.0', '11', '11.0', '110',\n",
      "       '1100', '1102.0', '1110.0', '1112', '1125', '1133', '114', '1140',\n",
      "       '1140.0', '11400', '115', '115.0', '1155', '1170', '1170.0',\n",
      "       '11700', '11700.0', '1172.0', '1180', '1183.0', '1184', '1184.0',\n",
      "       '1185', '1185.0', '1186', '1194', '1196', '12', '12.0', '120',\n",
      "       '120.0', '120.1', '120.15', '120.3', '1200', '1200.0', '12000',\n",
      "       '1203', '1205.0', '1209600', '121', '1215', '1217.0', '1219.0',\n",
      "       '122', '1224', '1227', '1230', '1230.0', '1233', '1236', '12420',\n",
      "       '1244', '1245', '1245.0', '1248', '125', '1250', '1260', '1260.0',\n",
      "       '12600', '12600.0', '1263', '1265', '1266', '1269', '1270', '1273',\n",
      "       '1275', '1281', '1289.0', '1290', '1290.0', '1293.0', '1295', '13',\n",
      "       '13.0', '130', '1300', '1305', '1309', '1310', '1320', '1320.0',\n",
      "       '1325', '1325.0', '1330', '1330.0', '1335', '1335.0', '1339',\n",
      "       '1340', '1341.0', '1342.0', '1345', '135', '135.0', '1350',\n",
      "       '1350.0', '13500', '1351', '1360', '1365', '138', '1380', '1380.0',\n",
      "       '1383', '1384', '1385.0', '1391', '1395', '1395.0', '1396', '1398',\n",
      "       '14', '14.0', '140', '140.0', '1400.0', '1401', '1408', '1410',\n",
      "       '1410.0', '1416', '1420', '1425', '1425.0', '1438', '1440',\n",
      "       '1440.0', '14400', '14400.0', '145', '145800', '147', '15', '15.0',\n",
      "       '150', '150.0', '1500', '1500.0', '152', '152.0', '15300',\n",
      "       '15300.0', '155', '1560', '1560.0', '15660', '159', '16', '16.0',\n",
      "       '160', '1620', '1620.0', '16200', '16200.0', '162000', '163',\n",
      "       '165', '165.0', '167.0', '1680', '1680.0', '17', '17.0', '170',\n",
      "       '1705', '172800', '172800.0', '173.0', '1733', '1740', '179', '18',\n",
      "       '18.0', '180', '180.0', '180.39', '1800', '1800.0', '18000',\n",
      "       '18000.0', '181.0', '1810', '1814400', '1815', '181800', '182.0',\n",
      "       '1830.0', '18300', '1845', '1860', '188', '19', '19.0', '191',\n",
      "       '1920', '1920.0', '1935', '195', '195.0', '1980', '1980.0',\n",
      "       '19800.0', '199', '2', '2.0', '2.5', '2.51', '20', '20.0', '200',\n",
      "       '200.0', '2040', '2040.0', '205.0', '209', '21', '21.45', '210',\n",
      "       '210.0', '2100', '2100.0', '2102400', '212', '216.0', '2160',\n",
      "       '21600', '21600.0', '2187', '219300', '219300.0', '22', '22.0',\n",
      "       '2220', '2220.0', '227.0', '2280', '2280.0', '23', '23.0', '2340',\n",
      "       '2340.0', '23400.0', '235.0', '24', '24.0', '240', '240.0', '2400',\n",
      "       '2400.0', '2419200', '2419200.0', '2496', '25', '25.0', '250',\n",
      "       '2520', '25200', '25200.0', '25248000', '2530', '253800.0',\n",
      "       '255.0', '258', '2580', '2580.0', '25800', '259.0', '259200',\n",
      "       '259200.0', '26', '26.0', '262', '2631600', '2631600  ',\n",
      "       '2631600.0', '2640', '265', '27', '27.0', '270', '270.0', '2700',\n",
      "       '2700.0', '273.0', '275', '276', '2760.0', '278', '28', '28.0',\n",
      "       '282', '2820', '2880', '2880.0', '28800', '28800.0', '29', '2940',\n",
      "       '299', '2`', '3', '3.0', '3.4', '3.5', '3.8', '30', '30.0', '300',\n",
      "       '300.0', '300.13', '3000', '3000.0', '30300', '304', '3040',\n",
      "       '3045.0', '3060', '309.0', '31', '310.0', '3120', '315', '318',\n",
      "       '3180', '32', '322.0', '3240', '32400', '32400.0', '33', '33.0',\n",
      "       '330', '3300', '3300.0', '335', '3360', '3360.0', '34', '34.0',\n",
      "       '3420', '345', '345.5', '345600', '345600.0', '3480', '35', '35.0',\n",
      "       '350', '3540.0', '355.0', '36', '36.0', '360', '360.0', '3600',\n",
      "       '3600.0', '36000', '36000.0', '3602.0', '361800', '3630', '3634.0',\n",
      "       '3654000.0', '37', '37.0', '3700', '3720', '373', '37800',\n",
      "       '37800.0', '38', '38.0', '380', '382.0', '384.0', '39', '390',\n",
      "       '3900', '3900.0', '393.0', '39600', '399', '4', '4.0', '4.5', '40',\n",
      "       '40.0', '400', '400.0', '41', '4140', '4140.0', '42', '420',\n",
      "       '420.0', '4200', '4200.0', '42000', '424', '425', '4260', '43',\n",
      "       '43200', '43200.0', '432000', '432000.0', '435.0', '438', '4380',\n",
      "       '44', '44.0', '4440.0', '45', '45.0', '450', '450.0', '4500',\n",
      "       '4500.0', '4560', '46', '465', '4680', '46800', '47.0', '479',\n",
      "       '48.0', '480', '480.0', '4800', '4800.0', '4838400', '4860', '49',\n",
      "       '492', '492.0', '496.0', '5', '5.0', '5.5', '50', '50.0', '50.5',\n",
      "       '500', '500.0', '50400', '50400.0', '510', '5100', '5100.0', '52',\n",
      "       '52623200', '52623200.0', '5263200', '5280.0', '53', '53.0', '540',\n",
      "       '540.0', '5400', '5400.0', '54000', '54000.0', '55', '55.0', '550',\n",
      "       '5520', '555', '56', '56.0', '56000', '570', '5760', '57600',\n",
      "       '58.0', '585.0', '59', '597.0', '599', '6', '6.0', '6.5', '60',\n",
      "       '60.0', '60.1', '60.12', '60.14', '60.15', '60.2', '60.25', '60.3',\n",
      "       '60.4', '60.42', '60.5', '60.6', '600', '600.0', '6000', '6000.0',\n",
      "       '603', '604800', '604800.0', '605', '605.0', '606', '60600', '61',\n",
      "       '610', '6120000', '615', '615.0', '620', '625', '630', '6300',\n",
      "       '6300.0', '6312000', '6312000.0', '633.0', '634', '639', '64',\n",
      "       '640.0', '6420.0', '6480', '64800', '64800.0', '65', '65.0', '658',\n",
      "       '660', '660.0', '6600', '66276000.0', '6660', '669', '67.0', '68',\n",
      "       '682', '688', '68814', '6900', '6900.0', '695', '698', '7', '7.0',\n",
      "       '70', '70.0', '705', '705.0', '7080', '71', '718', '72', '72.0',\n",
      "       '720', '720.0', '7200', '7200.0', '72000.0', '721', '7230.0',\n",
      "       '7245.0', '725', '727.0', '73.0', '7380.0', '73800', '73800.0',\n",
      "       '74', '74.0', '7440', '75', '75.0', '75.6', '750.0', '7500',\n",
      "       '7500.0', '751', '754', '7620', '7680', '771', '777600.0', '78',\n",
      "       '780', '780.0', '7800', '7894800', '8', '8.0', '8.5', '80', '80.0',\n",
      "       '800', '810', '8100', '8100.0', '82', '8280', '82800000', '83',\n",
      "       '835', '840', '840.0', '8400.0', '841.0', '85', '85.0', '8580',\n",
      "       '86400', '86400.0', '87', '87.0', '870.0', '8700.0', '89.0', '8`',\n",
      "       '9', '9.0', '90', '90.0', '900', '900.0', '9000', '9000.0', '91.0',\n",
      "       '930.0', '9468000', '95', '95.0', '96', '960', '960.0', '965',\n",
      "       '97200.0', '978', '97836000', '980', '988.0', '989', '99', '990',\n",
      "       '9900', '9900.0', '994', '995', 'nan'], dtype=object), array(['1/10/2003', '1/10/2009', '1/10/2014', '1/11/2002', '1/11/2005',\n",
      "       '1/12/2012', '1/16/2014', '1/17/2004', '1/19/2005', '1/20/2003',\n",
      "       '1/21/2008', '1/22/2000', '1/22/2004', '1/24/2012', '1/24/2014',\n",
      "       '1/26/2003', '1/27/2005', '1/28/1999', '1/29/2002', '1/3/2001',\n",
      "       '1/30/2014', '1/31/2004', '1/31/2011', '1/5/2011', '1/7/2000',\n",
      "       '10/10/2011', '10/11/2005', '10/12/2001', '10/14/2013',\n",
      "       '10/15/2002', '10/15/2003', '10/17/2003', '10/19/1999',\n",
      "       '10/19/2011', '10/2/1999', '10/20/2005', '10/23/2013',\n",
      "       '10/25/2011', '10/27/2004', '10/28/2002', '10/3/2013',\n",
      "       '10/30/2006', '10/30/2012', '10/31/2003', '10/31/2008',\n",
      "       '10/7/2003', '10/8/2007', '11/1/1998', '11/11/2003', '11/11/2013',\n",
      "       '11/16/2002', '11/17/1999', '11/19/1998', '11/19/2012',\n",
      "       '11/2/1999', '11/2/2004', '11/20/2001', '11/20/2002', '11/20/2013',\n",
      "       '11/21/1998', '11/21/2010', '11/23/1999', '11/26/2003',\n",
      "       '11/28/2007', '11/3/2005', '11/30/1999', '11/4/2002', '11/4/2012',\n",
      "       '11/8/2003', '11/8/2005', '11/9/1999', '11/9/2002', '11/9/2004',\n",
      "       '12/12/2009', '12/12/2011', '12/12/2013', '12/14/2004',\n",
      "       '12/14/2006', '12/16/1999', '12/16/2005', '12/17/2011',\n",
      "       '12/19/2003', '12/2/2000', '12/2/2013', '12/20/2000', '12/20/2012',\n",
      "       '12/21/2012', '12/23/2002', '12/23/2013', '12/3/2004', '12/5/2001',\n",
      "       '12/5/2013', '12/7/2006', '12/9/2000', '12/9/2003', '2/1/2007',\n",
      "       '2/10/2012', '2/11/2003', '2/12/2004', '2/14/2006', '2/14/2008',\n",
      "       '2/14/2010', '2/14/2014', '2/16/1999', '2/16/2000', '2/18/2001',\n",
      "       '2/18/2011', '2/18/2013', '2/21/2014', '2/22/2002', '2/22/2005',\n",
      "       '2/23/2000', '2/23/2011', '2/24/2001', '2/24/2005', '2/24/2007',\n",
      "       '2/25/2003', '2/27/2000', '2/27/2014', '2/28/2013', '2/3/2012',\n",
      "       '2/4/2013', '2/5/2003', '2/7/2014', '2/8/2005', '2/8/2011',\n",
      "       '3/1/2004', '3/10/2011', '3/11/2003', '3/11/2006', '3/13/2012',\n",
      "       '3/16/2000', '3/16/2001', '3/16/2012', '3/17/2004', '3/18/2014',\n",
      "       '3/19/2002', '3/19/2009', '3/2/2004', '3/21/2003', '3/21/2014',\n",
      "       '3/23/2004', '3/23/2011', '3/25/2002', '3/27/2014', '3/28/2004',\n",
      "       '3/29/2004', '3/3/2013', '3/31/2008', '3/4/2003', '3/4/2008',\n",
      "       '3/6/2001', '3/7/1998', '3/7/2000', '3/8/2007', '3/9/2004',\n",
      "       '4/1/2000', '4/1/2001', '4/11/2014', '4/12/2013', '4/13/2010',\n",
      "       '4/14/2009', '4/15/2000', '4/16/2005', '4/17/2008', '4/18/2012',\n",
      "       '4/18/2014', '4/2/1999', '4/22/2003', '4/24/2014', '4/25/2002',\n",
      "       '4/26/1999', '4/26/2000', '4/27/2003', '4/27/2004', '4/27/2007',\n",
      "       '4/28/2001', '4/3/2011', '4/30/2004', '4/4/2014', '4/8/2002',\n",
      "       '4/9/2004', '5/10/2004', '5/11/2000', '5/11/2005', '5/12/2009',\n",
      "       '5/12/2010', '5/12/2011', '5/13/2003', '5/13/2012', '5/14/2002',\n",
      "       '5/15/2006', '5/15/2013', '5/2/2003', '5/2/2011', '5/2/2014',\n",
      "       '5/23/1999', '5/24/1999', '5/24/2005', '5/27/2003', '5/28/2005',\n",
      "       '5/29/2011', '5/29/2012', '5/3/2000', '5/4/2004', '5/8/2014',\n",
      "       '5/9/2003', '6/10/2003', '6/10/2010', '6/12/2002', '6/12/2007',\n",
      "       '6/12/2008', '6/12/2011', '6/13/2002', '6/14/2012', '6/18/1998',\n",
      "       '6/18/2003', '6/18/2004', '6/2/1998', '6/2/2013', '6/20/2005',\n",
      "       '6/20/2011', '6/20/2012', '6/21/2000', '6/23/1999', '6/23/2004',\n",
      "       '6/23/2010', '6/27/2011', '6/3/2003', '6/3/2010', '6/3/2011',\n",
      "       '6/4/2004', '6/5/2012', '6/6/2000', '6/8/2012', '6/9/2009',\n",
      "       '7/1/2002', '7/10/2010', '7/11/2000', '7/13/2005', '7/14/1999',\n",
      "       '7/14/2013', '7/15/2005', '7/16/2003', '7/16/2006', '7/17/2011',\n",
      "       '7/19/2010', '7/22/2013', '7/23/2000', '7/23/2003', '7/25/2004',\n",
      "       '7/26/2002', '7/28/2010', '7/29/2000', '7/29/2010', '7/3/2013',\n",
      "       '7/30/2002', '7/4/2011', '7/4/2012', '7/5/1999', '7/5/2005',\n",
      "       '7/5/2008', '7/5/2013', '7/6/2010', '7/6/2011', '7/8/2004',\n",
      "       '8/1/2003', '8/10/1999', '8/11/2004', '8/12/2001', '8/12/2008',\n",
      "       '8/14/2007', '8/16/2002', '8/19/2000', '8/19/2012', '8/20/2001',\n",
      "       '8/21/2011', '8/24/2004', '8/24/2010', '8/25/2000', '8/27/2009',\n",
      "       '8/28/2002', '8/28/2003', '8/28/2009', '8/30/1999', '8/30/2010',\n",
      "       '8/30/2013', '8/4/2003', '8/5/2000', '8/5/2001', '8/5/2009',\n",
      "       '8/5/2012', '8/7/2007', '8/7/2011', '9/1/2004', '9/12/1999',\n",
      "       '9/12/2003', '9/13/2002', '9/15/2005', '9/17/2000', '9/17/2003',\n",
      "       '9/19/2002', '9/2/2005', '9/21/2000', '9/24/2003', '9/24/2012',\n",
      "       '9/26/1998', '9/28/2002', '9/28/2003', '9/29/2002', '9/29/2004',\n",
      "       '9/30/2013', '9/4/2003', '9/6/2002', '9/9/2003', '9/9/2004',\n",
      "       '9/9/2013'], dtype=object)]\n"
     ]
    }
   ],
   "source": [
    "def encode_categorical_columns(dataset: pd.DataFrame, categorical_columns: list):\n",
    "    from sklearn.preprocessing import OrdinalEncoder\n",
    "    encoder = OrdinalEncoder()\n",
    "    \n",
    "    # Convert all categorical columns to strings for consistency\n",
    "    for column in categorical_columns:\n",
    "        dataset[column] = dataset[column].astype(str)\n",
    "        \n",
    "    encoder.fit(dataset[categorical_columns])\n",
    "    print(encoder.categories_)\n",
    "        \n",
    "encode_categorical_columns(dataset, categorical_columns)"
   ],
   "metadata": {
    "collapsed": false,
    "ExecuteTime": {
     "end_time": "2023-10-06T19:34:07.821903Z",
     "start_time": "2023-10-06T19:34:07.793488Z"
    }
   },
   "id": "fb681b0462a67dba"
  },
  {
   "cell_type": "code",
   "execution_count": 58,
   "outputs": [
    {
     "data": {
      "text/plain": "           datetime                  city state country     shape  \\\n0  10/10/1949 20:30            san marcos    tx      us  cylinder   \n1  10/10/1949 21:00          lackland afb    tx     nan     light   \n2  10/10/1955 17:00  chester (uk/england)   nan      gb    circle   \n3  10/10/1956 21:00                  edna    tx      us    circle   \n4  10/10/1960 20:00               kaneohe    hi      us     light   \n\n  duration (seconds) duration (hours/min)  \\\n0               2700           45 minutes   \n1               7200              1-2 hrs   \n2                 20           20 seconds   \n3                 20             1/2 hour   \n4                900           15 minutes   \n\n                                            comments date posted    latitude  \\\n0  This event took place in early fall around 194...   4/27/2004  29.8830556   \n1  1949 Lackland AFB&#44 TX.  Lights racing acros...  12/16/2005    29.38421   \n2  Green/Orange circular disc over Chester&#44 En...   1/21/2008        53.2   \n3  My older brother and twin sister were leaving ...   1/17/2004  28.9783333   \n4  AS a Marine 1st Lt. flying an FJ4B fighter/att...   1/22/2004  21.4180556   \n\n    longitude  state_cat  country_cat  shape_cat  date posted_cat  \n0  -97.941111       57.0          4.0        8.0            174.0  \n1  -98.581082       57.0          NaN       19.0             79.0  \n2   -2.916667        NaN          3.0        4.0             10.0  \n3  -96.645833       57.0          4.0        4.0              7.0  \n4 -157.803611       13.0          4.0       19.0             12.0  ",
      "text/html": "<div>\n<style scoped>\n    .dataframe tbody tr th:only-of-type {\n        vertical-align: middle;\n    }\n\n    .dataframe tbody tr th {\n        vertical-align: top;\n    }\n\n    .dataframe thead th {\n        text-align: right;\n    }\n</style>\n<table border=\"1\" class=\"dataframe\">\n  <thead>\n    <tr style=\"text-align: right;\">\n      <th></th>\n      <th>datetime</th>\n      <th>city</th>\n      <th>state</th>\n      <th>country</th>\n      <th>shape</th>\n      <th>duration (seconds)</th>\n      <th>duration (hours/min)</th>\n      <th>comments</th>\n      <th>date posted</th>\n      <th>latitude</th>\n      <th>longitude</th>\n      <th>state_cat</th>\n      <th>country_cat</th>\n      <th>shape_cat</th>\n      <th>date posted_cat</th>\n    </tr>\n  </thead>\n  <tbody>\n    <tr>\n      <th>0</th>\n      <td>10/10/1949 20:30</td>\n      <td>san marcos</td>\n      <td>tx</td>\n      <td>us</td>\n      <td>cylinder</td>\n      <td>2700</td>\n      <td>45 minutes</td>\n      <td>This event took place in early fall around 194...</td>\n      <td>4/27/2004</td>\n      <td>29.8830556</td>\n      <td>-97.941111</td>\n      <td>57.0</td>\n      <td>4.0</td>\n      <td>8.0</td>\n      <td>174.0</td>\n    </tr>\n    <tr>\n      <th>1</th>\n      <td>10/10/1949 21:00</td>\n      <td>lackland afb</td>\n      <td>tx</td>\n      <td>nan</td>\n      <td>light</td>\n      <td>7200</td>\n      <td>1-2 hrs</td>\n      <td>1949 Lackland AFB&amp;#44 TX.  Lights racing acros...</td>\n      <td>12/16/2005</td>\n      <td>29.38421</td>\n      <td>-98.581082</td>\n      <td>57.0</td>\n      <td>NaN</td>\n      <td>19.0</td>\n      <td>79.0</td>\n    </tr>\n    <tr>\n      <th>2</th>\n      <td>10/10/1955 17:00</td>\n      <td>chester (uk/england)</td>\n      <td>nan</td>\n      <td>gb</td>\n      <td>circle</td>\n      <td>20</td>\n      <td>20 seconds</td>\n      <td>Green/Orange circular disc over Chester&amp;#44 En...</td>\n      <td>1/21/2008</td>\n      <td>53.2</td>\n      <td>-2.916667</td>\n      <td>NaN</td>\n      <td>3.0</td>\n      <td>4.0</td>\n      <td>10.0</td>\n    </tr>\n    <tr>\n      <th>3</th>\n      <td>10/10/1956 21:00</td>\n      <td>edna</td>\n      <td>tx</td>\n      <td>us</td>\n      <td>circle</td>\n      <td>20</td>\n      <td>1/2 hour</td>\n      <td>My older brother and twin sister were leaving ...</td>\n      <td>1/17/2004</td>\n      <td>28.9783333</td>\n      <td>-96.645833</td>\n      <td>57.0</td>\n      <td>4.0</td>\n      <td>4.0</td>\n      <td>7.0</td>\n    </tr>\n    <tr>\n      <th>4</th>\n      <td>10/10/1960 20:00</td>\n      <td>kaneohe</td>\n      <td>hi</td>\n      <td>us</td>\n      <td>light</td>\n      <td>900</td>\n      <td>15 minutes</td>\n      <td>AS a Marine 1st Lt. flying an FJ4B fighter/att...</td>\n      <td>1/22/2004</td>\n      <td>21.4180556</td>\n      <td>-157.803611</td>\n      <td>13.0</td>\n      <td>4.0</td>\n      <td>19.0</td>\n      <td>12.0</td>\n    </tr>\n  </tbody>\n</table>\n</div>"
     },
     "execution_count": 58,
     "metadata": {},
     "output_type": "execute_result"
    }
   ],
   "source": [
    "dataset.head()"
   ],
   "metadata": {
    "collapsed": false,
    "ExecuteTime": {
     "end_time": "2023-10-06T19:57:05.370834Z",
     "start_time": "2023-10-06T19:57:05.363641Z"
    }
   },
   "id": "b4810b0d1de972b7"
  },
  {
   "cell_type": "code",
   "execution_count": null,
   "outputs": [],
   "source": [],
   "metadata": {
    "collapsed": false
   },
   "id": "6bb934db069e538e"
  }
 ],
 "metadata": {
  "kernelspec": {
   "display_name": "Python 3",
   "language": "python",
   "name": "python3"
  },
  "language_info": {
   "codemirror_mode": {
    "name": "ipython",
    "version": 2
   },
   "file_extension": ".py",
   "mimetype": "text/x-python",
   "name": "python",
   "nbconvert_exporter": "python",
   "pygments_lexer": "ipython2",
   "version": "2.7.6"
  }
 },
 "nbformat": 4,
 "nbformat_minor": 5
}
